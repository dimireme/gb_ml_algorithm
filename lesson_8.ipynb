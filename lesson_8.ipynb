{
 "cells": [
  {
   "cell_type": "code",
   "execution_count": 221,
   "metadata": {},
   "outputs": [],
   "source": [
    "import numpy as np\n",
    "\n",
    "from sklearn import model_selection\n",
    "from sklearn.datasets import load_iris"
   ]
  },
  {
   "cell_type": "markdown",
   "metadata": {},
   "source": [
    "# Урок 8. Снижение размерности данных."
   ]
  },
  {
   "cell_type": "markdown",
   "metadata": {},
   "source": [
    "**1. Обучить любую модель классификации на датасете IRIS до применения PCA и после него. Сравнить качество классификации по отложенной выборке.**"
   ]
  },
  {
   "cell_type": "code",
   "execution_count": 222,
   "metadata": {},
   "outputs": [],
   "source": [
    "X, y = load_iris(return_X_y=True)"
   ]
  },
  {
   "cell_type": "code",
   "execution_count": 223,
   "metadata": {},
   "outputs": [],
   "source": [
    "# Стандартизация данных.\n",
    "X_scaled = (X - X.mean(axis=0)) / X.std(axis=0)"
   ]
  },
  {
   "cell_type": "code",
   "execution_count": 224,
   "metadata": {},
   "outputs": [],
   "source": [
    "# Разобьём выборку на обучающую и тестовую.\n",
    "X_train, X_test, y_train, y_test = model_selection.train_test_split(X_scaled, y, test_size=0.3, random_state=42)"
   ]
  },
  {
   "cell_type": "markdown",
   "metadata": {},
   "source": [
    "Воспользуемся написанным на прошлом уроке алгоритмом KNN."
   ]
  },
  {
   "cell_type": "code",
   "execution_count": 225,
   "metadata": {},
   "outputs": [],
   "source": [
    "\"\"\"Евклидова метрика расстояния\"\"\"\n",
    "def e_metrics(x1, x2):\n",
    "    \n",
    "    distance = 0\n",
    "    for i in range(len(x1)):\n",
    "        distance += np.square(x1[i] - x2[i])\n",
    "    \n",
    "    return np.sqrt(distance)"
   ]
  },
  {
   "cell_type": "code",
   "execution_count": 226,
   "metadata": {},
   "outputs": [],
   "source": [
    "\"\"\"Вычисление веса от расстояния\"\"\"\n",
    "weight = lambda d: 0.5 ** d"
   ]
  },
  {
   "cell_type": "code",
   "execution_count": 227,
   "metadata": {},
   "outputs": [],
   "source": [
    "\"\"\"Метрика точности\"\"\"\n",
    "accuracy = lambda y, pred: sum(pred == y) / len(y)"
   ]
  },
  {
   "cell_type": "code",
   "execution_count": 228,
   "metadata": {},
   "outputs": [],
   "source": [
    "\"\"\"Алгоритм поиска K ближайших соседей\"\"\"\n",
    "def knn(x_train, y_train, x_test, k):\n",
    "    \n",
    "    answers = []\n",
    "    for x in x_test:\n",
    "        test_distances = []\n",
    "            \n",
    "        for i in range(len(x_train)):\n",
    "            # Расстояние от классифицируемого объекта до объекта из обучающей выборки\n",
    "            distance = e_metrics(x, x_train[i])\n",
    "                       \n",
    "            # Записываем в список значение расстояния и ответа на объекте обучающей выборки\n",
    "            test_distances.append((distance, y_train[i]))\n",
    "        \n",
    "        # создаем словарь со всеми возможными классами\n",
    "        classes = {class_item: 0 for class_item in set(y_train)}\n",
    "        \n",
    "        # Сортируем список и среди первых k элементов подсчитаем суммарные веса разных классов\n",
    "        for distance, answer in sorted(test_distances)[0:k]:\n",
    "            classes[answer] += weight(distance)\n",
    "        \n",
    "        # Записываем в список ответов класс с наибольшим весом\n",
    "        answers.append(sorted(classes, key=classes.get)[-1])\n",
    "\n",
    "    return answers"
   ]
  },
  {
   "cell_type": "code",
   "execution_count": 229,
   "metadata": {},
   "outputs": [
    {
     "name": "stdout",
     "output_type": "stream",
     "text": [
      "Точность алгоритма при k = 2: 0.978\n"
     ]
    }
   ],
   "source": [
    "k = 2\n",
    "y_test_pred = knn(X_train, y_train, X_test, k)\n",
    "print(f'Точность алгоритма при k = {k}: {accuracy(y_test_pred, y_test):.3f}')"
   ]
  },
  {
   "cell_type": "markdown",
   "metadata": {},
   "source": [
    "Точность алгоритма на тестовой выборке довольно большая, даже для `k=2`. Реализуем алгоритм PCA."
   ]
  },
  {
   "cell_type": "code",
   "execution_count": 230,
   "metadata": {},
   "outputs": [
    {
     "name": "stdout",
     "output_type": "stream",
     "text": [
      "Собственные значения в порядке убывания:\n",
      "(437.77467247979894, array([ 0.52106591, -0.26934744,  0.5804131 ,  0.56485654]))\n",
      "(137.10457072021055, array([-0.37741762, -0.92329566, -0.02449161, -0.06694199]))\n",
      "(22.01353133569725, array([-0.71956635,  0.24438178,  0.14212637,  0.63427274]))\n",
      "(3.1072254642929513, array([ 0.26128628, -0.12350962, -0.80144925,  0.52359713]))\n"
     ]
    }
   ],
   "source": [
    "covariance_matrix = X_scaled.T @ X_scaled\n",
    "\n",
    "# собственные векторы и собственные значения\n",
    "eig_values, eig_vectors = np.linalg.eig(covariance_matrix)\n",
    "\n",
    "# сформируем список кортежей (собственное значение, собственный вектор)\n",
    "eig_pairs = [(np.abs(eig_values[i]), eig_vectors[:, i]) for i in range(len(eig_values))]\n",
    "\n",
    "# и отсортируем список по убыванию собственных значений\n",
    "eig_pairs.sort(key=lambda x: x[0], reverse=True)\n",
    "\n",
    "print('Собственные значения в порядке убывания:')\n",
    "for i in eig_pairs:\n",
    "    print(i)"
   ]
  },
  {
   "cell_type": "code",
   "execution_count": 231,
   "metadata": {},
   "outputs": [],
   "source": [
    "# Выберем два первых собственных вектора и из них сформируем матрицу весов.\n",
    "W = np.hstack((eig_pairs[0][1].reshape(4,1), eig_pairs[1][1].reshape(4,1)))\n",
    "\n",
    "# Новая матрица признаков.\n",
    "Z = X_scaled @ W\n",
    "\n",
    "# Новое разбиение на обучающую тестовую выборки.\n",
    "X_train, X_test, y_train, y_test = model_selection.train_test_split(Z, y, test_size=0.3, random_state=42)"
   ]
  },
  {
   "cell_type": "code",
   "execution_count": 232,
   "metadata": {},
   "outputs": [
    {
     "name": "stdout",
     "output_type": "stream",
     "text": [
      "Точность алгоритма при k = 2: 0.889\n"
     ]
    }
   ],
   "source": [
    "k = 2\n",
    "y_test_pred = knn(X_train, y_train, X_test, k)\n",
    "print(f'Точность алгоритма при k = {k}: {accuracy(y_test_pred, y_test):.3f}')"
   ]
  },
  {
   "cell_type": "markdown",
   "metadata": {},
   "source": [
    "До понижения размерности точность составила `0.978`, после понижения размерности `0.956`."
   ]
  },
  {
   "cell_type": "markdown",
   "metadata": {},
   "source": [
    "**2*. Написать свою реализацию метода главных компонент с помощью сингулярного разложения с использованием функции numpy.linalg.svd().**\n"
   ]
  },
  {
   "cell_type": "code",
   "execution_count": 233,
   "metadata": {},
   "outputs": [],
   "source": [
    "\"\"\"Алгоритм понижения размерности на основе сингулярного разложения\"\"\"\n",
    "def my_pca_svd(X, d):\n",
    "    u, s, vh = np.linalg.svd(X, full_matrices=False)\n",
    "    W = vh[:, :d]\n",
    "    return X @ W"
   ]
  },
  {
   "cell_type": "code",
   "execution_count": 234,
   "metadata": {},
   "outputs": [],
   "source": [
    "# Новая матрица признаков.\n",
    "Z = my_pca_svd(X_scaled, 2)\n",
    "\n",
    "# Новое разбиение на обучающую тестовую выборки.\n",
    "X_train, X_test, y_train, y_test = model_selection.train_test_split(Z, y, test_size=0.3, random_state=42)"
   ]
  },
  {
   "cell_type": "code",
   "execution_count": 235,
   "metadata": {},
   "outputs": [
    {
     "name": "stdout",
     "output_type": "stream",
     "text": [
      "Точность алгоритма при k = 2: 0.867\n"
     ]
    }
   ],
   "source": [
    "k = 2\n",
    "y_test_pred = knn(X_train, y_train, X_test, k)\n",
    "print(f'Точность алгоритма при k = {k}: {accuracy(y_test_pred, y_test):.3f}')"
   ]
  },
  {
   "cell_type": "markdown",
   "metadata": {},
   "source": [
    "Точность такая же, что и при понижении размерности методом главных компонент."
   ]
  },
  {
   "cell_type": "code",
   "execution_count": null,
   "metadata": {},
   "outputs": [],
   "source": []
  }
 ],
 "metadata": {
  "file_extension": ".py",
  "kernelspec": {
   "display_name": "Python 3",
   "language": "python",
   "name": "python3"
  },
  "language_info": {
   "codemirror_mode": {
    "name": "ipython",
    "version": 3
   },
   "file_extension": ".py",
   "mimetype": "text/x-python",
   "name": "python",
   "nbconvert_exporter": "python",
   "pygments_lexer": "ipython3",
   "version": "3.7.6"
  },
  "mimetype": "text/x-python",
  "name": "python",
  "npconvert_exporter": "python",
  "pygments_lexer": "ipython3",
  "version": 3
 },
 "nbformat": 4,
 "nbformat_minor": 2
}
